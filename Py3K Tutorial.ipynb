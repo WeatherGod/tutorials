{
 "cells": [
  {
   "cell_type": "markdown",
   "metadata": {},
   "source": [
    "# Moving to Py3K\n",
    "There are a fair number of differences between Python 2.7 and Py3k. Some of them we have encountered already through the `from __future__ import ...`, and a few through `six`. A quick refresher:"
   ]
  },
  {
   "cell_type": "markdown",
   "metadata": {},
   "source": [
    "* `print` is now a function (`from __future__ import print_function`)\n",
    "\n",
    "* Division between integers results in a float (`from __future__ import division`). Use `//` to retain old behavior."
   ]
  },
  {
   "cell_type": "code",
   "execution_count": null,
   "metadata": {},
   "outputs": [],
   "source": [
    "%%python2\n",
    "from __future__ import print_function\n",
    "print(1 / 2)\n",
    "print(1 / 2.0)\n",
    "print(1 // 2)\n",
    "print(1 // 2.0)"
   ]
  },
  {
   "cell_type": "markdown",
   "metadata": {},
   "source": [
    "* `range(5)` returns a range object, not a list. Range objects behave a lot like a list. Effectively, only thing you can't do with it that you can do with a list is mutate it."
   ]
  },
  {
   "cell_type": "code",
   "execution_count": null,
   "metadata": {
    "scrolled": true
   },
   "outputs": [],
   "source": [
    "%%python2\n",
    "from __future__ import print_function\n",
    "a = range(5)\n",
    "print(a)\n",
    "a[3] = 1000\n",
    "print(a)"
   ]
  },
  {
   "cell_type": "markdown",
   "metadata": {},
   "source": [
    "* String literals are now always unicode (`from __future__ import unicode_literals`). This can cause odd behavior in some places when mixing old data with new code (or vice versa). Some data loaders may return a \"bytes object\" instead of a \"text object\" (which is what strings are nowadays)."
   ]
  },
  {
   "cell_type": "code",
   "execution_count": null,
   "metadata": {},
   "outputs": [],
   "source": [
    "%%python2\n",
    "from __future__ import print_function\n",
    "some_text_data = b\"bar\"  # regular string in py2, bytes object in py3\n",
    "if some_text_data == \"bar\":\n",
    "    print(\"They are the same!\")\n",
    "else:\n",
    "    print(\"They are not the same!\")"
   ]
  },
  {
   "cell_type": "markdown",
   "metadata": {},
   "source": [
    "* floats now round-trip through text representation"
   ]
  },
  {
   "cell_type": "code",
   "execution_count": null,
   "metadata": {},
   "outputs": [],
   "source": [
    "%%python2\n",
    "from __future__ import print_function\n",
    "print(float(str(1000.0123456789)) == 1000.0123456789)"
   ]
  },
  {
   "cell_type": "markdown",
   "metadata": {},
   "source": [
    "* Can't compare or sort mixed types"
   ]
  },
  {
   "cell_type": "code",
   "execution_count": null,
   "metadata": {},
   "outputs": [],
   "source": [
    "%%python2\n",
    "from __future__ import print_function\n",
    "print(sorted([4, '2', 3]))"
   ]
  },
  {
   "cell_type": "markdown",
   "metadata": {},
   "source": [
    "For a fuller examination of the kinds of changes to expect, see https://portingguide.readthedocs.io/"
   ]
  },
  {
   "cell_type": "markdown",
   "metadata": {},
   "source": [
    "# Where are the .pyc files?\n",
    "You are probably used to seeing .pyc files appearing in your directories, shadowing your python modules whenever you import them. In Py3k, the .pyc files are placed in a `__pycache__` directory."
   ]
  },
  {
   "cell_type": "markdown",
   "metadata": {},
   "source": [
    "# Numerical literal tweak (3.6)\n",
    "You can now use as many underscores whereever you like for writing out a number. Typically, one would use it for thousands groupings, but it can be done anywhere. Note, not all editors properly recognize this and so you may get funky syntax coloring. This can also be done for hexadecimals and octals."
   ]
  },
  {
   "cell_type": "code",
   "execution_count": null,
   "metadata": {},
   "outputs": [],
   "source": [
    "a_num = 100_000.5\n",
    "print(a_num)"
   ]
  },
  {
   "cell_type": "code",
   "execution_count": null,
   "metadata": {},
   "outputs": [],
   "source": [
    "a_num = 0.000_123_05\n",
    "print(a_num)"
   ]
  },
  {
   "cell_type": "markdown",
   "metadata": {},
   "source": [
    "This is also recognized for string to numbers conversion:"
   ]
  },
  {
   "cell_type": "code",
   "execution_count": null,
   "metadata": {},
   "outputs": [],
   "source": [
    "a_num = float(\"10_000.888_88\")\n",
    "print(a_num)"
   ]
  },
  {
   "cell_type": "markdown",
   "metadata": {},
   "source": [
    "And, you can even have it included in text output for machine-readable output that is easier for humans to read as well."
   ]
  },
  {
   "cell_type": "code",
   "execution_count": null,
   "metadata": {},
   "outputs": [],
   "source": [
    "a_num = 10000.88888\n",
    "str_comma = \"{a_num:,}\".format(a_num=a_num)\n",
    "str_underscore = \"{a_num:_}\".format(a_num=a_num)\n",
    "print(str_comma)\n",
    "print(str_underscore)"
   ]
  },
  {
   "cell_type": "code",
   "execution_count": null,
   "metadata": {},
   "outputs": [],
   "source": [
    "float(str_underscore)"
   ]
  },
  {
   "cell_type": "markdown",
   "metadata": {},
   "source": [
    "# f-strings (3.6)\n",
    "This gives you a feature that some have been used to having in languages like Perl and Bash. If you prepend an `f` to a quoted string, then it is basically like doing `.format(**all_the_things)` to that string automatically."
   ]
  },
  {
   "cell_type": "code",
   "execution_count": null,
   "metadata": {},
   "outputs": [],
   "source": [
    "name = \"Bob\"\n",
    "age = 23\n",
    "sentence = f\"{name} is {age} years old\"\n",
    "print(sentence)"
   ]
  },
  {
   "cell_type": "markdown",
   "metadata": {},
   "source": [
    "## Simple statement evaluation\n",
    "This sort of stuff is available *only* in f-strings, not in regular strings that are being `.format()`-ed."
   ]
  },
  {
   "cell_type": "code",
   "execution_count": null,
   "metadata": {},
   "outputs": [],
   "source": [
    "print(f\"{name} will be {age + 5} years old in 5 years\")"
   ]
  },
  {
   "cell_type": "markdown",
   "metadata": {},
   "source": [
    "## debug f-string (3.8)\n",
    "Nifty convenience feature just added in python 3.8."
   ]
  },
  {
   "cell_type": "code",
   "execution_count": null,
   "metadata": {},
   "outputs": [],
   "source": [
    "print(f\"{name=}  {age=}\")"
   ]
  },
  {
   "cell_type": "markdown",
   "metadata": {},
   "source": [
    "# Optional type annotations (3.0)\n",
    "In python, you don't need to specify that a variable is a list or an integer, unlike in languages like C/C++. This allows us a lot of ease in just simply writing algorithms rather than focusing on ensuring we got all of the types exactly right. However, there are times when it would be good to know what types are expected where. So, Python introduced syntax for type annotations (a.k.a., type hints)."
   ]
  },
  {
   "cell_type": "code",
   "execution_count": null,
   "metadata": {},
   "outputs": [],
   "source": [
    "def my_add(a: int, b: int) -> int:\n",
    "    return a + b"
   ]
  },
  {
   "cell_type": "markdown",
   "metadata": {},
   "source": [
    "Note, this is *not* enforced. It is strictly considered to be an annotation."
   ]
  },
  {
   "cell_type": "code",
   "execution_count": null,
   "metadata": {},
   "outputs": [],
   "source": [
    "my_add(\"foo\", \"bar\")"
   ]
  },
  {
   "cell_type": "markdown",
   "metadata": {},
   "source": [
    "But, one can use a python linter to try and detect mistakes in a codebase using this feature. This feature is still being developed and slowly getting adopted by the wider community. The one place that is having trouble adopting it is the SciPy community, largely because we have not yet adopted rich semantics for numpy arrays."
   ]
  },
  {
   "cell_type": "markdown",
   "metadata": {},
   "source": [
    "# Breakpoints! (3.7)\n",
    "You don't need to do `import pdb; pdb.set_trace()` as your way of setting a breakpoint. What is really nice is that the `breakpoint()` function is actually extensible, so tools like Spyder and Jupyter can have integrated debuggers start up for you!"
   ]
  },
  {
   "cell_type": "code",
   "execution_count": null,
   "metadata": {},
   "outputs": [],
   "source": [
    "def foo():\n",
    "    a = 1\n",
    "    breakpoint()\n",
    "    b = 2\n",
    "    return a + b"
   ]
  },
  {
   "cell_type": "code",
   "execution_count": null,
   "metadata": {},
   "outputs": [],
   "source": [
    "foo()"
   ]
  },
  {
   "cell_type": "markdown",
   "metadata": {},
   "source": [
    "# Walrus Operator `:=` (3.8)\n",
    "In python 3.8, you can use a special kind of assignment operator that works a lot like C/C++'s regular assignment operator for those who are familiar with that. Essentially, in Python, the regular assignment operator can only be used by itself. You can't have it be in an if clause, or a list comprehension, or some other construct. But, in py3.8, the `:=` was introduced to allow those situations to be possible.\n",
    "\n",
    "A simple example:"
   ]
  },
  {
   "cell_type": "code",
   "execution_count": null,
   "metadata": {},
   "outputs": [],
   "source": [
    "foo = \"bar\"\n",
    "print(foo)"
   ]
  },
  {
   "cell_type": "markdown",
   "metadata": {},
   "source": [
    "Can now be expressed as:"
   ]
  },
  {
   "cell_type": "code",
   "execution_count": null,
   "metadata": {},
   "outputs": [],
   "source": [
    "print(foo := \"baz\")"
   ]
  },
  {
   "cell_type": "markdown",
   "metadata": {},
   "source": [
    "Now, where could this be useful, you ask? I find this particularly useful for conditional list comprehensions and generators:"
   ]
  },
  {
   "cell_type": "code",
   "execution_count": null,
   "metadata": {},
   "outputs": [],
   "source": [
    "def some_expensive_func(a, b):\n",
    "    return a + b"
   ]
  },
  {
   "cell_type": "markdown",
   "metadata": {},
   "source": [
    "Suppose you need a list of values from this function, but only those greater than 15."
   ]
  },
  {
   "cell_type": "code",
   "execution_count": null,
   "metadata": {},
   "outputs": [],
   "source": [
    "[some_expensive_func(x1, x2)\n",
    " for x1, x2 in zip(range(10), range(20, 0, -2))\n",
    " if some_expensive_func(x1, x2) > 15]"
   ]
  },
  {
   "cell_type": "markdown",
   "metadata": {},
   "source": [
    "Which means you have to compute it twice for each iteration! There are a few other alternative approaches to avoid doing twice the number of function calls, but none of them are very clean or readable. But with a walrus operator, you can do this:"
   ]
  },
  {
   "cell_type": "code",
   "execution_count": null,
   "metadata": {},
   "outputs": [],
   "source": [
    "[val\n",
    " for x1, x2 in zip(range(10), range(20, 0, -2))\n",
    " if (val := some_expensive_func(x1, x2)) > 15]"
   ]
  },
  {
   "cell_type": "markdown",
   "metadata": {},
   "source": [
    "Be superfluous with your parentheses. The above won't work without the parens around the assignment operation.\n",
    "\n",
    "WARNING: While it isn't a syntax error to use this assignment operation just about anywhere, it may still be logically incorrect:"
   ]
  },
  {
   "cell_type": "code",
   "execution_count": null,
   "metadata": {},
   "outputs": [],
   "source": [
    "[(val := some_expensive_func(x1, x2))\n",
    " for x1, x2 in zip(range(10), range(20, 0, -2))\n",
    " if val > 15]"
   ]
  },
  {
   "cell_type": "markdown",
   "metadata": {},
   "source": [
    "# Datetime changes\n",
    "In Py3k, a `datetime.timezone` submodule was created, along with a `utc` timezone object. So, from now on, avoid using `datetime.utcnow()` and `datetime.utcfromtimestamp()`. They are a bit misleading because they will produce naive datetime objects. It is now very easy to create a UTC-aware datetime object that will always do the right thing no matter how it is used:"
   ]
  },
  {
   "cell_type": "code",
   "execution_count": null,
   "metadata": {},
   "outputs": [],
   "source": [
    "from datetime import datetime, timezone\n",
    "dt_now = datetime.now(tz=timezone.utc)\n",
    "print(dt_now)\n",
    "dt_ts = datetime.fromtimestamp(1571595618, timezone.utc)\n",
    "print(dt_ts)\n",
    "dt = datetime(2020, 6, 4, 10, 30, tzinfo=timezone.utc)\n",
    "print(dt)"
   ]
  },
  {
   "cell_type": "markdown",
   "metadata": {},
   "source": [
    "This is further complicated by the fact that in Py3k (3.6, I think), some operations on naive datetime objects will now implicitly assume that the naive datetime object represents a time in your system's timezone (previously, they would raise an error). So, it may now be better practice to always specify the UTC timezone when we know that we are referencing a time in the UTC timezone, rather than ignoring the timezone altogether."
   ]
  },
  {
   "cell_type": "markdown",
   "metadata": {},
   "source": [
    "# Function argument enhancements\n",
    "Traditionally, arguments to a function can be thought of as positional and keyword arguments:"
   ]
  },
  {
   "cell_type": "code",
   "execution_count": null,
   "metadata": {},
   "outputs": [],
   "source": [
    "def foo(a, b=20):\n",
    "    return a * b"
   ]
  },
  {
   "cell_type": "markdown",
   "metadata": {},
   "source": [
    "In `foo()`, both `a` and `b` can be supplied via positional arguments:\n",
    "\n",
    "`foo(1, 2)`\n",
    "\n",
    "or via keyword (named) arguments:\n",
    "\n",
    "`foo(b=2, a=1)`\n",
    "\n",
    "or a careful mix of the two:\n",
    "\n",
    "`foo(1, b=2)`\n",
    "\n",
    "And this has served the Python community well for many years and is certainly better than function argument handling in other languages. But, for those who maintain long-lived libraries, this makes API changes tricky because subtle changes may accidentally break people code. So, in Python 3.0, keyword-only arguments were introduced, and in Python 3.8, positional-only arguments were introduced. All this mean is that there is now a way to specify that particular arguments can only be supplied positionally or via keyword."
   ]
  },
  {
   "cell_type": "markdown",
   "metadata": {},
   "source": [
    "## Keyword-only arguments (3.0)\n",
    "Any arguments with a default value (or `**kwargs`) that come after the `*` entity are considered to be \"keyword-only\" arguments. Note that arguments without a default value can still come after the `*`, which makes them required keyword arguments."
   ]
  },
  {
   "cell_type": "code",
   "execution_count": null,
   "metadata": {},
   "outputs": [],
   "source": [
    "def foo(a, *, b=20):\n",
    "    return a * b"
   ]
  },
  {
   "cell_type": "markdown",
   "metadata": {},
   "source": [
    "Now, if you want to supply the `b` argument, you _have_ to name it:"
   ]
  },
  {
   "cell_type": "code",
   "execution_count": null,
   "metadata": {},
   "outputs": [],
   "source": [
    "foo(1, b=2)"
   ]
  },
  {
   "cell_type": "markdown",
   "metadata": {},
   "source": [
    "## Positional-only arguments (3.8)\n",
    "Any positional arguments that come before the `/` entity are considered \"positional-only\" arguments. Note that arguments with default values can still come before the `/`, which makes them optional positional arguments."
   ]
  },
  {
   "cell_type": "code",
   "execution_count": null,
   "metadata": {},
   "outputs": [],
   "source": [
    "def foo(a, /, b=20):\n",
    "    return a * b"
   ]
  },
  {
   "cell_type": "markdown",
   "metadata": {},
   "source": [
    "Now, `a` is only known as `a` within the function. It cannot be referenced as such outside the function. It is only known as \"the first argument\"."
   ]
  },
  {
   "cell_type": "code",
   "execution_count": null,
   "metadata": {},
   "outputs": [],
   "source": [
    "foo(a=1, b=2)"
   ]
  },
  {
   "cell_type": "markdown",
   "metadata": {},
   "source": [
    "# Matrix multiplication operator `@` (3.5)"
   ]
  },
  {
   "cell_type": "code",
   "execution_count": null,
   "metadata": {},
   "outputs": [],
   "source": [
    "import numpy as np\n",
    "a = np.array([1.3, 1.5, 1.7])\n",
    "b = np.array([[2.5, 3.1], [0.2, 0.3], [1.7, -2.0]])"
   ]
  },
  {
   "cell_type": "markdown",
   "metadata": {},
   "source": [
    "Traditionally, matrix multiplication was done like so:"
   ]
  },
  {
   "cell_type": "code",
   "execution_count": null,
   "metadata": {},
   "outputs": [],
   "source": [
    "np.matmul(a, b)"
   ]
  },
  {
   "cell_type": "markdown",
   "metadata": {},
   "source": [
    "or"
   ]
  },
  {
   "cell_type": "code",
   "execution_count": null,
   "metadata": {},
   "outputs": [],
   "source": [
    "a.dot(b)"
   ]
  },
  {
   "cell_type": "markdown",
   "metadata": {},
   "source": [
    "But now you can do:"
   ]
  },
  {
   "cell_type": "code",
   "execution_count": null,
   "metadata": {},
   "outputs": [],
   "source": [
    "a @ b"
   ]
  },
  {
   "cell_type": "markdown",
   "metadata": {},
   "source": [
    "# Unpacking Fun!\n",
    "Unpacking is the term used for taking the parts of a collection and assigning them to other variables. We have encountered unpacking before in various forms:"
   ]
  },
  {
   "cell_type": "code",
   "execution_count": null,
   "metadata": {},
   "outputs": [],
   "source": [
    "def foo(a, b=20):\n",
    "    return a * b"
   ]
  },
  {
   "cell_type": "code",
   "execution_count": null,
   "metadata": {},
   "outputs": [],
   "source": [
    "baz = {'b': 14, 'a': 1}\n",
    "foo(**baz)"
   ]
  },
  {
   "cell_type": "code",
   "execution_count": null,
   "metadata": {},
   "outputs": [],
   "source": [
    "bar = [10, 15]\n",
    "foo(*bar)"
   ]
  },
  {
   "cell_type": "code",
   "execution_count": null,
   "metadata": {},
   "outputs": [],
   "source": [
    "a, b = bar\n",
    "print(a, b)"
   ]
  },
  {
   "cell_type": "markdown",
   "metadata": {},
   "source": [
    "But now, we can do more!"
   ]
  },
  {
   "cell_type": "markdown",
   "metadata": {},
   "source": [
    "## Sequence unpacking - Basic (3.0)"
   ]
  },
  {
   "cell_type": "code",
   "execution_count": null,
   "metadata": {},
   "outputs": [],
   "source": [
    "bar = [10, 11, 12, 13, 14, 15]\n",
    "a, b, *c = bar\n",
    "print(a)\n",
    "print(b)\n",
    "print(c)"
   ]
  },
  {
   "cell_type": "code",
   "execution_count": null,
   "metadata": {},
   "outputs": [],
   "source": [
    "a, *b, c = bar\n",
    "print(a)\n",
    "print(b)\n",
    "print(c)"
   ]
  },
  {
   "cell_type": "code",
   "execution_count": null,
   "metadata": {},
   "outputs": [],
   "source": [
    "*_, a, b = bar\n",
    "print(a)\n",
    "print(b)"
   ]
  },
  {
   "cell_type": "code",
   "execution_count": null,
   "metadata": {},
   "outputs": [],
   "source": [
    "ranges = [range(3), range(4)]\n",
    "for a, *b in ranges:\n",
    "    print(a, b)"
   ]
  },
  {
   "cell_type": "markdown",
   "metadata": {},
   "source": [
    "## Sequence unpacking - Additional (3.5)\n",
    "We also now have new ways to build a list:"
   ]
  },
  {
   "cell_type": "code",
   "execution_count": null,
   "metadata": {},
   "outputs": [],
   "source": [
    "a = [1, 2, 3]\n",
    "b = [7, 6, 5, 4]\n",
    "c = [*a, *b]\n",
    "d = [*b, 10, 11, *a]\n",
    "print(c)\n",
    "print(d)"
   ]
  },
  {
   "cell_type": "markdown",
   "metadata": {},
   "source": [
    "## Set unpacking (3.5)\n",
    "We can do something similar for sets. It doesn't matter whether the source is a list or a set."
   ]
  },
  {
   "cell_type": "code",
   "execution_count": null,
   "metadata": {},
   "outputs": [],
   "source": [
    "a = [1, 2, 3, 4, 5]\n",
    "b = {4, 5, 6, 7}\n",
    "c = {*a, *b}\n",
    "d = {*b, 10, 14, 4, *a}\n",
    "print(c)\n",
    "print(d)"
   ]
  },
  {
   "cell_type": "markdown",
   "metadata": {},
   "source": [
    "## Dictionary unpacking (3.5)\n",
    "Similarly to how we can now create a list using `*` unpacking, we can also create a dictionary using `**` unpacking:"
   ]
  },
  {
   "cell_type": "code",
   "execution_count": null,
   "metadata": {},
   "outputs": [],
   "source": [
    "a = {'foo': 1, 'bar': 2}\n",
    "b = {'bar': 3, 'baz': 4}\n",
    "c = {**a, **b}\n",
    "d = {**a, 'foo': 10, 'baz': 14, **b}\n",
    "print(c)\n",
    "print(d)"
   ]
  },
  {
   "cell_type": "markdown",
   "metadata": {},
   "source": [
    "Notice that in `c`, `'bar'` got the value from `b` because it was unpacked after `a`. And in `d`, `'foo'` got the value of `10` because it was specified after the unpacking of `a`, but `'baz'` was `4` because `b` was unpacked after the specification of `'baz'`."
   ]
  },
  {
   "cell_type": "markdown",
   "metadata": {},
   "source": [
    "Also notice, the keys in the dictionaries (as of python 3.5) are retaining their \"insertion\" order. In Python 2.x, dictionaries had arbitrary order (but were the same from run-to-run if built identically)."
   ]
  }
 ],
 "metadata": {
  "kernelspec": {
   "display_name": "Python 3",
   "language": "python",
   "name": "python3"
  },
  "language_info": {
   "codemirror_mode": {
    "name": "ipython",
    "version": 3
   },
   "file_extension": ".py",
   "mimetype": "text/x-python",
   "name": "python",
   "nbconvert_exporter": "python",
   "pygments_lexer": "ipython3",
   "version": "3.8.2"
  }
 },
 "nbformat": 4,
 "nbformat_minor": 4
}
